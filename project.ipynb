{
 "cells": [
  {
   "cell_type": "code",
   "execution_count": 3,
   "metadata": {},
   "outputs": [],
   "source": [
    "import cv2\n",
    "import os\n",
    "import tensorflow as tf\n",
    "from tensorflow import keras\n",
    "from PIL import Image\n",
    "import numpy as np\n",
    "from sklearn.model_selection import train_test_split\n",
    "from keras.utils import normalize\n",
    "from keras.models import Sequential\n",
    "from keras.layers import Conv2D, MaxPooling2D\n",
    "from keras.layers import Activation,Dropout, Flatten ,Dense"
   ]
  },
  {
   "cell_type": "code",
   "execution_count": 4,
   "metadata": {},
   "outputs": [],
   "source": [
    "image_directory='datasets/'\n",
    "\n",
    "no_tumor_images=os.listdir(image_directory + 'no/')\n",
    "yes_tumor_images=os.listdir(image_directory + 'yes/')\n",
    "dataset=[]\n",
    "label=[]\n",
    "\n",
    "INPUT_SIZE=64"
   ]
  },
  {
   "cell_type": "code",
   "execution_count": 5,
   "metadata": {},
   "outputs": [],
   "source": [
    "for i , image_name in enumerate(no_tumor_images):\n",
    "    if(image_name.split('.')[1]=='jpg'):\n",
    "        image=cv2.imread(image_directory + 'no/'+ image_name)\n",
    "        image=Image.fromarray(image,'RGB')\n",
    "        image=image.resize((INPUT_SIZE,INPUT_SIZE))\n",
    "        dataset.append(np.array(image))\n",
    "        label.append(0)\n"
   ]
  },
  {
   "cell_type": "code",
   "execution_count": 6,
   "metadata": {},
   "outputs": [],
   "source": [
    "for i , image_name in enumerate(yes_tumor_images):\n",
    "    if(image_name.split('.')[1]=='jpg'):\n",
    "        image=cv2.imread(image_directory + 'yes/'+ image_name)\n",
    "        image=Image.fromarray(image,'RGB')\n",
    "        image=image.resize((INimport cv2\n",
    "import os\n",
    "import tensorflow as tf\n",
    "from tensorflow import keras\n",
    "from PIL import Image\n",
    "import numpy as np\n",
    "from sklearn.model_selection import train_test_split\n",
    "from keras.utils import normalize\n",
    "from keras.models import Sequential\n",
    "from keras.layers import Conv2D, MaxPooling2D\n",
    "from keras.layers import Activation,Dropout, Flatten ,DensePUT_SIZE,INPUT_SIZE))\n",
    "        dataset.append(np.array(image))\n",
    "        label.append(1)\n"
   ]
  },
  {
   "cell_type": "code",
   "execution_count": 7,
   "metadata": {},
   "outputs": [],
   "source": [
    "dataset=np.array(dataset)\n",
    "label=np.array(label)\n",
    "\n",
    "x_train, x_test , y_train, y_test =train_test_split(dataset,label,test_size=0.2,random_state=0)\n",
    "x_train=normalize(x_train,axis=1)\n",
    "x_test=normalize(x_test,axis=1)"
   ]
  },
  {
   "cell_type": "code",
   "execution_count": 8,
   "metadata": {},
   "outputs": [],
   "source": [
    "model=Sequential()"
   ]
  },
  {
   "cell_type": "code",
   "execution_count": 9,
   "metadata": {},
   "outputs": [],
   "source": [
    "model.add(Conv2D(32,(3,3),input_shape=(INPUT_SIZE,INPUT_SIZE,3)))\n",
    "model.add(Activation('relu'))\n",
    "model.add(MaxPooling2D(pool_size=(2,2)))\n"
   ]
  },
  {
   "cell_type": "code",
   "execution_count": 10,
   "metadata": {},
   "outputs": [],
   "source": [
    "model.add(Conv2D(32,(3,3),kernel_initializer='he_uniform'))\n",
    "model.add(Activation('relu'))\n",
    "model.add(MaxPooling2D(pool_size=(2,2)))\n"
   ]
  },
  {
   "cell_type": "code",
   "execution_count": 11,
   "metadata": {},
   "outputs": [],
   "source": [
    "model.add(Conv2D(64,(3,3),kernel_initializer='he_uniform'))\n",
    "model.add(Activation('relu'))\n",
    "model.add(MaxPooling2D(pool_size=(2,2)))"
   ]
  },
  {
   "cell_type": "code",
   "execution_count": 12,
   "metadata": {},
   "outputs": [],
   "source": [
    "model.add(Flatten())\n",
    "model.add(Dense(64))\n",
    "model.add(Activation('relu'))\n",
    "model.add(Dropout(0.5))\n",
    "model.add(Dense(1))\n",
    "model.add(Activation('sigmoid'))"
   ]
  },
  {
   "cell_type": "code",
   "execution_count": 13,
   "metadata": {},
   "outputs": [],
   "source": [
    "model.compile( \n",
    "\tloss='binary_crossentropy', \n",
    "\toptimizer='adam', \n",
    "\tmetrics=['accuracy']\n",
    ")"
   ]
  },
  {
   "cell_type": "code",
   "execution_count": 15,
   "metadata": {},
   "outputs": [
    {
     "name": "stdout",
     "output_type": "stream",
     "text": [
      "Epoch 1/10\n",
      "150/150 [==============================] - 9s 52ms/step - loss: 0.5558 - accuracy: 0.7217 - val_loss: 0.4786 - val_accuracy: 0.7850\n",
      "Epoch 2/10\n",
      "150/150 [==============================] - 7s 48ms/step - loss: 0.4027 - accuracy: 0.8346 - val_loss: 0.3699 - val_accuracy: 0.8317\n",
      "Epoch 3/10\n",
      "150/150 [==============================] - 7s 45ms/step - loss: 0.3149 - accuracy: 0.8733 - val_loss: 0.2812 - val_accuracy: 0.8817\n",
      "Epoch 4/10\n",
      "150/150 [==============================] - 13s 84ms/step - loss: 0.2386 - accuracy: 0.9096 - val_loss: 0.1982 - val_accuracy: 0.9300\n",
      "Epoch 5/10\n",
      "150/150 [==============================] - 8s 53ms/step - loss: 0.1640 - accuracy: 0.9392 - val_loss: 0.1557 - val_accuracy: 0.9400\n",
      "Epoch 6/10\n",
      "150/150 [==============================] - 8s 52ms/step - loss: 0.1161 - accuracy: 0.9625 - val_loss: 0.1389 - val_accuracy: 0.9617\n",
      "Epoch 7/10\n",
      "150/150 [==============================] - 8s 55ms/step - loss: 0.0909 - accuracy: 0.9742 - val_loss: 0.1078 - val_accuracy: 0.9600\n",
      "Epoch 8/10\n",
      "150/150 [==============================] - 8s 57ms/step - loss: 0.0714 - accuracy: 0.9746 - val_loss: 0.1082 - val_accuracy: 0.9700\n",
      "Epoch 9/10\n",
      "150/150 [==============================] - 9s 59ms/step - loss: 0.0376 - accuracy: 0.9896 - val_loss: 0.0915 - val_accuracy: 0.9733\n",
      "Epoch 10/10\n",
      "150/150 [==============================] - 8s 55ms/step - loss: 0.0307 - accuracy: 0.9900 - val_loss: 0.0899 - val_accuracy: 0.9767\n"
     ]
    },
    {
     "data": {
      "text/plain": [
       "<keras.src.callbacks.History at 0x28c86829610>"
      ]
     },
     "execution_count": 15,
     "metadata": {},
     "output_type": "execute_result"
    }
   ],
   "source": [
    "model.fit(x_train, y_train, batch_size=16,epochs=10,validation_data=(x_test,y_test),shuffle=False)"
   ]
  },
  {
   "cell_type": "code",
   "execution_count": 16,
   "metadata": {},
   "outputs": [
    {
     "name": "stdout",
     "output_type": "stream",
     "text": [
      "INFO:tensorflow:Assets written to: BrainTumor10Epochs.hS\\assets\n"
     ]
    },
    {
     "name": "stderr",
     "output_type": "stream",
     "text": [
      "INFO:tensorflow:Assets written to: BrainTumor10Epochs.hS\\assets\n"
     ]
    }
   ],
   "source": [
    "model.save('BrainTumor10Epochs.hS')"
   ]
  },
  {
   "cell_type": "code",
   "execution_count": 17,
   "metadata": {},
   "outputs": [],
   "source": [
    "import cv2\n",
    "from keras.models import load_model\n",
    "from PIL import Image\n",
    "import numpy as np"
   ]
  },
  {
   "cell_type": "code",
   "execution_count": 26,
   "metadata": {},
   "outputs": [],
   "source": [
    "model=load_model('BrainTumor10Epochs.hS')\n",
    "\n",
    "image=cv2.imread('C:\\\\Users\\\\ZBook Fury\\\\Downloads\\\\Brain Tumor Classification\\\\pred\\\\pred14.jpg')\n",
    "\n",
    "img=Image.fromarray(image)\n",
    "\n",
    "img=img.resize((64,64))\n",
    "\n",
    "img=np.array(img)\n",
    "\n",
    "input_img=np.expand_dims(img,axis=0)\n"
   ]
  },
  {
   "cell_type": "code",
   "execution_count": 27,
   "metadata": {},
   "outputs": [
    {
     "name": "stdout",
     "output_type": "stream",
     "text": [
      "1/1 [==============================] - 0s 209ms/step\n"
     ]
    }
   ],
   "source": [
    "result=(model.predict(input_img) > 0.5).astype(\"int32\")"
   ]
  },
  {
   "cell_type": "code",
   "execution_count": 28,
   "metadata": {},
   "outputs": [
    {
     "name": "stdout",
     "output_type": "stream",
     "text": [
      "[[1]]\n"
     ]
    }
   ],
   "source": [
    "print(result)"
   ]
  },
  {
   "cell_type": "code",
   "execution_count": 29,
   "metadata": {},
   "outputs": [
    {
     "name": "stdout",
     "output_type": "stream",
     "text": [
      "Tumor\n"
     ]
    }
   ],
   "source": [
    "if(result==0):\n",
    "    print('No Tumor')\n",
    "else:\n",
    "    print('Tumor')\n",
    "    "
   ]
  },
  {
   "cell_type": "code",
   "execution_count": null,
   "metadata": {},
   "outputs": [],
   "source": []
  }
 ],
 "metadata": {
  "kernelspec": {
   "display_name": "Python 3 (ipykernel)",
   "language": "python",
   "name": "python3"
  },
  "language_info": {
   "codemirror_mode": {
    "name": "ipython",
    "version": 3
   },
   "file_extension": ".py",
   "mimetype": "text/x-python",
   "name": "python",
   "nbconvert_exporter": "python",
   "pygments_lexer": "ipython3",
   "version": "3.11.3"
  }
 },
 "nbformat": 4,
 "nbformat_minor": 2
}
